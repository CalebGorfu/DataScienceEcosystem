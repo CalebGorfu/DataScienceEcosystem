{
 "cells": [
  {
   "cell_type": "markdown",
   "id": "e8dacd4a-e1ab-48a8-a110-d4afed6ff96c",
   "metadata": {},
   "source": [
    "# Data Science Tools and Ecosystems"
   ]
  },
  {
   "cell_type": "markdown",
   "id": "6be7be8b-a04c-42fb-8f9f-92207d15ce35",
   "metadata": {},
   "source": [
    "In this notebook, Data Science Tools and Ecosystem are summarized."
   ]
  },
  {
   "cell_type": "markdown",
   "id": "fd5b72eb-9cfc-46a7-a6d7-00297be247f4",
   "metadata": {},
   "source": [
    "Some of the popular languages that Data Scientists use are: \n",
    "\n",
    "1. Python\n",
    "2. SQL\n",
    "3. R"
   ]
  },
  {
   "cell_type": "markdown",
   "id": "e9dc9947-5d1b-4c84-b6ec-dce55cfae35b",
   "metadata": {},
   "source": [
    "Some of the commonly used libraries used by Data Scientists include:\n",
    "\n",
    "1. Pandas\n",
    "2. Matplotlib\n",
    "3. Keras"
   ]
  },
  {
   "cell_type": "markdown",
   "id": "e88ece97-d47f-4526-b4c3-24d5c25cdb1a",
   "metadata": {},
   "source": [
    "| Data Science Tools |\n",
    "| ---- | \n",
    "| R Studio | \n",
    "| Jupyter Notebook | \n",
    "| Apache Spark |"
   ]
  },
  {
   "cell_type": "markdown",
   "id": "6af3d801-3080-4a3c-baf9-2adfff460147",
   "metadata": {},
   "source": [
    "### Below are a few examples of evaluating arithmetic expressions in Python"
   ]
  },
  {
   "cell_type": "code",
   "execution_count": 2,
   "id": "9c12e35f-9af1-450a-a1da-aafffa2ebdd8",
   "metadata": {
    "tags": []
   },
   "outputs": [
    {
     "data": {
      "text/plain": [
       "17"
      ]
     },
     "execution_count": 2,
     "metadata": {},
     "output_type": "execute_result"
    }
   ],
   "source": [
    "##This is a simple arithmetic expression to mutiply then add integers\n",
    "(3*4)+5"
   ]
  },
  {
   "cell_type": "code",
   "execution_count": 3,
   "id": "32d0a360-fd86-413a-bb86-387510576dc0",
   "metadata": {
    "tags": []
   },
   "outputs": [
    {
     "data": {
      "text/plain": [
       "3.3333333333333335"
      ]
     },
     "execution_count": 3,
     "metadata": {},
     "output_type": "execute_result"
    }
   ],
   "source": [
    "##This will convert 200 minutes to hours by diving by 60\n",
    "200/60"
   ]
  },
  {
   "cell_type": "markdown",
   "id": "8aaa268a-2158-4b80-9b85-3348ab86c2b4",
   "metadata": {},
   "source": [
    "**Objectives:**\n",
    "- Listing popular languages used for Data Science in markdown form\n",
    "- Listing commonly used libraries for Data Science in markdown form\n",
    "- Creating headers for different parts of the notebook\n",
    "- Performing simple arithmetic expressions in code cells"
   ]
  },
  {
   "cell_type": "markdown",
   "id": "bf66d96c-4681-4900-a4c1-2858e7bf61c1",
   "metadata": {},
   "source": [
    "## Author\n",
    "Caleb G."
   ]
  },
  {
   "cell_type": "code",
   "execution_count": null,
   "id": "39de34cb-cd8d-46a3-8478-2a38e48f86f2",
   "metadata": {},
   "outputs": [],
   "source": []
  }
 ],
 "metadata": {
  "kernelspec": {
   "display_name": "Python",
   "language": "python",
   "name": "conda-env-python-py"
  },
  "language_info": {
   "codemirror_mode": {
    "name": "ipython",
    "version": 3
   },
   "file_extension": ".py",
   "mimetype": "text/x-python",
   "name": "python",
   "nbconvert_exporter": "python",
   "pygments_lexer": "ipython3",
   "version": "3.7.12"
  }
 },
 "nbformat": 4,
 "nbformat_minor": 5
}
